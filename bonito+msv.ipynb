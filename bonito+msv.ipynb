{
 "cells": [
  {
   "cell_type": "code",
   "execution_count": 1,
   "id": "538949f6-168c-4448-a6e2-5cd448f70cc8",
   "metadata": {
    "id": "538949f6-168c-4448-a6e2-5cd448f70cc8"
   },
   "outputs": [],
   "source": [
    "import numpy                 as np\n",
    "import pandas                as pd\n",
    "import matplotlib.pyplot     as plt\n",
    "import sklearn\n",
    "import sklearn.tree\n",
    "\n",
    "from sklearn.naive_bayes     import CategoricalNB\n",
    "from sklearn.model_selection import train_test_split\n",
    "from sklearn.preprocessing   import LabelEncoder\n",
    "from sklearn.tree            import DecisionTreeClassifier\n",
    "from sklearn.model_selection import train_test_split\n",
    "from sklearn                 import metrics\n",
    "from sklearn                 import preprocessing\n",
    "from sklearn.neighbors       import KNeighborsClassifier\n",
    "from sklearn.metrics         import f1_score\n",
    "from sklearn.ensemble        import BaggingClassifier\n",
    "from sklearn.multiclass      import OneVsRestClassifier\n",
    "from sklearn.svm             import SVC\n",
    "from sklearn.metrics         import average_precision_score"
   ]
  },
  {
   "cell_type": "code",
   "execution_count": 2,
   "id": "6f2e222e-1cee-4ddb-b4c1-ebe70b017f51",
   "metadata": {
    "id": "6f2e222e-1cee-4ddb-b4c1-ebe70b017f51"
   },
   "outputs": [],
   "source": [
    "DF = pd.read_csv(\"student-mat.csv\")"
   ]
  },
  {
   "cell_type": "code",
   "execution_count": 3,
   "id": "0bfe73b0-5e75-4a0a-80fe-e5da59239c27",
   "metadata": {
    "colab": {
     "base_uri": "https://localhost:8080/",
     "height": 235
    },
    "id": "0bfe73b0-5e75-4a0a-80fe-e5da59239c27",
    "outputId": "27d4df6d-58ac-49f4-9084-c1337bb807d9"
   },
   "outputs": [
    {
     "data": {
      "text/html": [
       "<div>\n",
       "<style scoped>\n",
       "    .dataframe tbody tr th:only-of-type {\n",
       "        vertical-align: middle;\n",
       "    }\n",
       "\n",
       "    .dataframe tbody tr th {\n",
       "        vertical-align: top;\n",
       "    }\n",
       "\n",
       "    .dataframe thead th {\n",
       "        text-align: right;\n",
       "    }\n",
       "</style>\n",
       "<table border=\"1\" class=\"dataframe\">\n",
       "  <thead>\n",
       "    <tr style=\"text-align: right;\">\n",
       "      <th></th>\n",
       "      <th>school</th>\n",
       "      <th>sex</th>\n",
       "      <th>age</th>\n",
       "      <th>address</th>\n",
       "      <th>famsize</th>\n",
       "      <th>Pstatus</th>\n",
       "      <th>Medu</th>\n",
       "      <th>Fedu</th>\n",
       "      <th>Mjob</th>\n",
       "      <th>Fjob</th>\n",
       "      <th>...</th>\n",
       "      <th>famrel</th>\n",
       "      <th>freetime</th>\n",
       "      <th>goout</th>\n",
       "      <th>Dalc</th>\n",
       "      <th>Walc</th>\n",
       "      <th>health</th>\n",
       "      <th>absences</th>\n",
       "      <th>G1</th>\n",
       "      <th>G2</th>\n",
       "      <th>G3</th>\n",
       "    </tr>\n",
       "  </thead>\n",
       "  <tbody>\n",
       "    <tr>\n",
       "      <th>0</th>\n",
       "      <td>GP</td>\n",
       "      <td>F</td>\n",
       "      <td>18</td>\n",
       "      <td>U</td>\n",
       "      <td>GT3</td>\n",
       "      <td>A</td>\n",
       "      <td>4</td>\n",
       "      <td>4</td>\n",
       "      <td>at_home</td>\n",
       "      <td>teacher</td>\n",
       "      <td>...</td>\n",
       "      <td>4</td>\n",
       "      <td>3</td>\n",
       "      <td>4</td>\n",
       "      <td>1</td>\n",
       "      <td>1</td>\n",
       "      <td>3</td>\n",
       "      <td>6</td>\n",
       "      <td>5</td>\n",
       "      <td>6</td>\n",
       "      <td>6</td>\n",
       "    </tr>\n",
       "    <tr>\n",
       "      <th>1</th>\n",
       "      <td>GP</td>\n",
       "      <td>F</td>\n",
       "      <td>17</td>\n",
       "      <td>U</td>\n",
       "      <td>GT3</td>\n",
       "      <td>T</td>\n",
       "      <td>1</td>\n",
       "      <td>1</td>\n",
       "      <td>at_home</td>\n",
       "      <td>other</td>\n",
       "      <td>...</td>\n",
       "      <td>5</td>\n",
       "      <td>3</td>\n",
       "      <td>3</td>\n",
       "      <td>1</td>\n",
       "      <td>1</td>\n",
       "      <td>3</td>\n",
       "      <td>4</td>\n",
       "      <td>5</td>\n",
       "      <td>5</td>\n",
       "      <td>6</td>\n",
       "    </tr>\n",
       "    <tr>\n",
       "      <th>2</th>\n",
       "      <td>GP</td>\n",
       "      <td>F</td>\n",
       "      <td>15</td>\n",
       "      <td>U</td>\n",
       "      <td>LE3</td>\n",
       "      <td>T</td>\n",
       "      <td>1</td>\n",
       "      <td>1</td>\n",
       "      <td>at_home</td>\n",
       "      <td>other</td>\n",
       "      <td>...</td>\n",
       "      <td>4</td>\n",
       "      <td>3</td>\n",
       "      <td>2</td>\n",
       "      <td>2</td>\n",
       "      <td>3</td>\n",
       "      <td>3</td>\n",
       "      <td>10</td>\n",
       "      <td>7</td>\n",
       "      <td>8</td>\n",
       "      <td>10</td>\n",
       "    </tr>\n",
       "    <tr>\n",
       "      <th>3</th>\n",
       "      <td>GP</td>\n",
       "      <td>F</td>\n",
       "      <td>15</td>\n",
       "      <td>U</td>\n",
       "      <td>GT3</td>\n",
       "      <td>T</td>\n",
       "      <td>4</td>\n",
       "      <td>2</td>\n",
       "      <td>health</td>\n",
       "      <td>services</td>\n",
       "      <td>...</td>\n",
       "      <td>3</td>\n",
       "      <td>2</td>\n",
       "      <td>2</td>\n",
       "      <td>1</td>\n",
       "      <td>1</td>\n",
       "      <td>5</td>\n",
       "      <td>2</td>\n",
       "      <td>15</td>\n",
       "      <td>14</td>\n",
       "      <td>15</td>\n",
       "    </tr>\n",
       "    <tr>\n",
       "      <th>4</th>\n",
       "      <td>GP</td>\n",
       "      <td>F</td>\n",
       "      <td>16</td>\n",
       "      <td>U</td>\n",
       "      <td>GT3</td>\n",
       "      <td>T</td>\n",
       "      <td>3</td>\n",
       "      <td>3</td>\n",
       "      <td>other</td>\n",
       "      <td>other</td>\n",
       "      <td>...</td>\n",
       "      <td>4</td>\n",
       "      <td>3</td>\n",
       "      <td>2</td>\n",
       "      <td>1</td>\n",
       "      <td>2</td>\n",
       "      <td>5</td>\n",
       "      <td>4</td>\n",
       "      <td>6</td>\n",
       "      <td>10</td>\n",
       "      <td>10</td>\n",
       "    </tr>\n",
       "  </tbody>\n",
       "</table>\n",
       "<p>5 rows × 33 columns</p>\n",
       "</div>"
      ],
      "text/plain": [
       "  school sex  age address famsize Pstatus  Medu  Fedu     Mjob      Fjob  ...  \\\n",
       "0     GP   F   18       U     GT3       A     4     4  at_home   teacher  ...   \n",
       "1     GP   F   17       U     GT3       T     1     1  at_home     other  ...   \n",
       "2     GP   F   15       U     LE3       T     1     1  at_home     other  ...   \n",
       "3     GP   F   15       U     GT3       T     4     2   health  services  ...   \n",
       "4     GP   F   16       U     GT3       T     3     3    other     other  ...   \n",
       "\n",
       "  famrel freetime  goout  Dalc  Walc health absences  G1  G2  G3  \n",
       "0      4        3      4     1     1      3        6   5   6   6  \n",
       "1      5        3      3     1     1      3        4   5   5   6  \n",
       "2      4        3      2     2     3      3       10   7   8  10  \n",
       "3      3        2      2     1     1      5        2  15  14  15  \n",
       "4      4        3      2     1     2      5        4   6  10  10  \n",
       "\n",
       "[5 rows x 33 columns]"
      ]
     },
     "execution_count": 3,
     "metadata": {},
     "output_type": "execute_result"
    }
   ],
   "source": [
    "DF.head()"
   ]
  },
  {
   "cell_type": "code",
   "execution_count": 4,
   "id": "56e41ef1-532d-408a-afbc-26fb93ef2c69",
   "metadata": {
    "colab": {
     "base_uri": "https://localhost:8080/"
    },
    "id": "56e41ef1-532d-408a-afbc-26fb93ef2c69",
    "outputId": "fe979275-4e9e-4969-fa0e-a5a6f6f6c86a"
   },
   "outputs": [
    {
     "data": {
      "text/plain": [
       "Index(['school', 'sex', 'age', 'address', 'famsize', 'Pstatus', 'Medu', 'Fedu',\n",
       "       'Mjob', 'Fjob', 'reason', 'guardian', 'traveltime', 'studytime',\n",
       "       'failures', 'schoolsup', 'famsup', 'paid', 'activities', 'nursery',\n",
       "       'higher', 'internet', 'romantic', 'famrel', 'freetime', 'goout', 'Dalc',\n",
       "       'Walc', 'health', 'absences', 'G1', 'G2', 'G3'],\n",
       "      dtype='object')"
      ]
     },
     "execution_count": 4,
     "metadata": {},
     "output_type": "execute_result"
    }
   ],
   "source": [
    "DF.columns"
   ]
  },
  {
   "cell_type": "code",
   "execution_count": 5,
   "id": "bfe584fc-9acc-490a-8f90-fbf6f4b0ceed",
   "metadata": {
    "id": "bfe584fc-9acc-490a-8f90-fbf6f4b0ceed"
   },
   "outputs": [],
   "source": [
    "DF = DF[DF.age < 20]"
   ]
  },
  {
   "cell_type": "code",
   "execution_count": 6,
   "id": "91479d3d-920c-4ba8-a107-8f7e196eef7a",
   "metadata": {
    "colab": {
     "base_uri": "https://localhost:8080/"
    },
    "id": "91479d3d-920c-4ba8-a107-8f7e196eef7a",
    "outputId": "13c5fe7b-2f5a-4113-85ae-34f77a98e8c4"
   },
   "outputs": [],
   "source": [
    "# Para simplificar la categorización, se han unido el consumo entre semana y del fin de semana\n",
    "DF[\"Alc\"] = DF[[\"Dalc\", \"Walc\"]].max(axis=1)\n",
    "DF = DF.drop(columns=[\"Dalc\", \"Walc\"])"
   ]
  },
  {
   "cell_type": "code",
   "execution_count": 7,
   "id": "ae92abf8-83bd-4359-a8ce-84df70ee8efd",
   "metadata": {
    "id": "ae92abf8-83bd-4359-a8ce-84df70ee8efd"
   },
   "outputs": [],
   "source": [
    "# Convertimos los datos en numéricos\n",
    "\n",
    "DF = DF.apply(LabelEncoder().fit_transform)"
   ]
  },
  {
   "cell_type": "code",
   "execution_count": 8,
   "id": "295f8515-aac6-48f0-9bce-155769aebcb2",
   "metadata": {
    "id": "295f8515-aac6-48f0-9bce-155769aebcb2"
   },
   "outputs": [],
   "source": [
    "# Nos concentramos en el el tipo de consumo de alcohol (moderado-sin moderación) en vez de las subcategorías planteadas por el conjunto de datos\n",
    "\n",
    "DF[\"Alc\"].replace({1:0,2:0,3:1,4:1}, inplace=True)"
   ]
  },
  {
   "cell_type": "code",
   "execution_count": 9,
   "id": "baec69f5-5a7a-4c56-b4ef-e436d0be2bc8",
   "metadata": {
    "colab": {
     "base_uri": "https://localhost:8080/",
     "height": 424
    },
    "id": "baec69f5-5a7a-4c56-b4ef-e436d0be2bc8",
    "outputId": "bc957f8f-62e5-42f8-fd45-82a69434ed6b"
   },
   "outputs": [
    {
     "data": {
      "text/html": [
       "<div>\n",
       "<style scoped>\n",
       "    .dataframe tbody tr th:only-of-type {\n",
       "        vertical-align: middle;\n",
       "    }\n",
       "\n",
       "    .dataframe tbody tr th {\n",
       "        vertical-align: top;\n",
       "    }\n",
       "\n",
       "    .dataframe thead th {\n",
       "        text-align: right;\n",
       "    }\n",
       "</style>\n",
       "<table border=\"1\" class=\"dataframe\">\n",
       "  <thead>\n",
       "    <tr style=\"text-align: right;\">\n",
       "      <th></th>\n",
       "      <th>school</th>\n",
       "      <th>sex</th>\n",
       "      <th>age</th>\n",
       "      <th>address</th>\n",
       "      <th>famsize</th>\n",
       "      <th>Pstatus</th>\n",
       "      <th>Medu</th>\n",
       "      <th>Fedu</th>\n",
       "      <th>Mjob</th>\n",
       "      <th>Fjob</th>\n",
       "      <th>...</th>\n",
       "      <th>romantic</th>\n",
       "      <th>famrel</th>\n",
       "      <th>freetime</th>\n",
       "      <th>goout</th>\n",
       "      <th>health</th>\n",
       "      <th>absences</th>\n",
       "      <th>G1</th>\n",
       "      <th>G2</th>\n",
       "      <th>G3</th>\n",
       "      <th>Alc</th>\n",
       "    </tr>\n",
       "  </thead>\n",
       "  <tbody>\n",
       "    <tr>\n",
       "      <th>0</th>\n",
       "      <td>0</td>\n",
       "      <td>0</td>\n",
       "      <td>3</td>\n",
       "      <td>1</td>\n",
       "      <td>0</td>\n",
       "      <td>0</td>\n",
       "      <td>4</td>\n",
       "      <td>4</td>\n",
       "      <td>0</td>\n",
       "      <td>4</td>\n",
       "      <td>...</td>\n",
       "      <td>0</td>\n",
       "      <td>3</td>\n",
       "      <td>2</td>\n",
       "      <td>3</td>\n",
       "      <td>2</td>\n",
       "      <td>6</td>\n",
       "      <td>2</td>\n",
       "      <td>3</td>\n",
       "      <td>3</td>\n",
       "      <td>0</td>\n",
       "    </tr>\n",
       "    <tr>\n",
       "      <th>1</th>\n",
       "      <td>0</td>\n",
       "      <td>0</td>\n",
       "      <td>2</td>\n",
       "      <td>1</td>\n",
       "      <td>0</td>\n",
       "      <td>1</td>\n",
       "      <td>1</td>\n",
       "      <td>1</td>\n",
       "      <td>0</td>\n",
       "      <td>2</td>\n",
       "      <td>...</td>\n",
       "      <td>0</td>\n",
       "      <td>4</td>\n",
       "      <td>2</td>\n",
       "      <td>2</td>\n",
       "      <td>2</td>\n",
       "      <td>4</td>\n",
       "      <td>2</td>\n",
       "      <td>2</td>\n",
       "      <td>3</td>\n",
       "      <td>0</td>\n",
       "    </tr>\n",
       "    <tr>\n",
       "      <th>2</th>\n",
       "      <td>0</td>\n",
       "      <td>0</td>\n",
       "      <td>0</td>\n",
       "      <td>1</td>\n",
       "      <td>1</td>\n",
       "      <td>1</td>\n",
       "      <td>1</td>\n",
       "      <td>1</td>\n",
       "      <td>0</td>\n",
       "      <td>2</td>\n",
       "      <td>...</td>\n",
       "      <td>0</td>\n",
       "      <td>3</td>\n",
       "      <td>2</td>\n",
       "      <td>1</td>\n",
       "      <td>2</td>\n",
       "      <td>10</td>\n",
       "      <td>4</td>\n",
       "      <td>5</td>\n",
       "      <td>7</td>\n",
       "      <td>0</td>\n",
       "    </tr>\n",
       "    <tr>\n",
       "      <th>3</th>\n",
       "      <td>0</td>\n",
       "      <td>0</td>\n",
       "      <td>0</td>\n",
       "      <td>1</td>\n",
       "      <td>0</td>\n",
       "      <td>1</td>\n",
       "      <td>4</td>\n",
       "      <td>2</td>\n",
       "      <td>1</td>\n",
       "      <td>3</td>\n",
       "      <td>...</td>\n",
       "      <td>1</td>\n",
       "      <td>2</td>\n",
       "      <td>1</td>\n",
       "      <td>1</td>\n",
       "      <td>4</td>\n",
       "      <td>2</td>\n",
       "      <td>12</td>\n",
       "      <td>11</td>\n",
       "      <td>12</td>\n",
       "      <td>0</td>\n",
       "    </tr>\n",
       "    <tr>\n",
       "      <th>4</th>\n",
       "      <td>0</td>\n",
       "      <td>0</td>\n",
       "      <td>1</td>\n",
       "      <td>1</td>\n",
       "      <td>0</td>\n",
       "      <td>1</td>\n",
       "      <td>3</td>\n",
       "      <td>3</td>\n",
       "      <td>2</td>\n",
       "      <td>2</td>\n",
       "      <td>...</td>\n",
       "      <td>0</td>\n",
       "      <td>3</td>\n",
       "      <td>2</td>\n",
       "      <td>1</td>\n",
       "      <td>4</td>\n",
       "      <td>4</td>\n",
       "      <td>3</td>\n",
       "      <td>7</td>\n",
       "      <td>7</td>\n",
       "      <td>0</td>\n",
       "    </tr>\n",
       "    <tr>\n",
       "      <th>...</th>\n",
       "      <td>...</td>\n",
       "      <td>...</td>\n",
       "      <td>...</td>\n",
       "      <td>...</td>\n",
       "      <td>...</td>\n",
       "      <td>...</td>\n",
       "      <td>...</td>\n",
       "      <td>...</td>\n",
       "      <td>...</td>\n",
       "      <td>...</td>\n",
       "      <td>...</td>\n",
       "      <td>...</td>\n",
       "      <td>...</td>\n",
       "      <td>...</td>\n",
       "      <td>...</td>\n",
       "      <td>...</td>\n",
       "      <td>...</td>\n",
       "      <td>...</td>\n",
       "      <td>...</td>\n",
       "      <td>...</td>\n",
       "      <td>...</td>\n",
       "    </tr>\n",
       "    <tr>\n",
       "      <th>388</th>\n",
       "      <td>1</td>\n",
       "      <td>0</td>\n",
       "      <td>3</td>\n",
       "      <td>1</td>\n",
       "      <td>1</td>\n",
       "      <td>1</td>\n",
       "      <td>3</td>\n",
       "      <td>1</td>\n",
       "      <td>4</td>\n",
       "      <td>3</td>\n",
       "      <td>...</td>\n",
       "      <td>0</td>\n",
       "      <td>3</td>\n",
       "      <td>2</td>\n",
       "      <td>3</td>\n",
       "      <td>0</td>\n",
       "      <td>0</td>\n",
       "      <td>4</td>\n",
       "      <td>6</td>\n",
       "      <td>5</td>\n",
       "      <td>0</td>\n",
       "    </tr>\n",
       "    <tr>\n",
       "      <th>389</th>\n",
       "      <td>1</td>\n",
       "      <td>0</td>\n",
       "      <td>3</td>\n",
       "      <td>1</td>\n",
       "      <td>0</td>\n",
       "      <td>1</td>\n",
       "      <td>1</td>\n",
       "      <td>1</td>\n",
       "      <td>2</td>\n",
       "      <td>2</td>\n",
       "      <td>...</td>\n",
       "      <td>0</td>\n",
       "      <td>0</td>\n",
       "      <td>0</td>\n",
       "      <td>0</td>\n",
       "      <td>4</td>\n",
       "      <td>0</td>\n",
       "      <td>3</td>\n",
       "      <td>2</td>\n",
       "      <td>0</td>\n",
       "      <td>0</td>\n",
       "    </tr>\n",
       "    <tr>\n",
       "      <th>391</th>\n",
       "      <td>1</td>\n",
       "      <td>1</td>\n",
       "      <td>2</td>\n",
       "      <td>1</td>\n",
       "      <td>1</td>\n",
       "      <td>1</td>\n",
       "      <td>3</td>\n",
       "      <td>1</td>\n",
       "      <td>3</td>\n",
       "      <td>3</td>\n",
       "      <td>...</td>\n",
       "      <td>0</td>\n",
       "      <td>1</td>\n",
       "      <td>3</td>\n",
       "      <td>4</td>\n",
       "      <td>1</td>\n",
       "      <td>3</td>\n",
       "      <td>11</td>\n",
       "      <td>13</td>\n",
       "      <td>13</td>\n",
       "      <td>1</td>\n",
       "    </tr>\n",
       "    <tr>\n",
       "      <th>393</th>\n",
       "      <td>1</td>\n",
       "      <td>1</td>\n",
       "      <td>3</td>\n",
       "      <td>0</td>\n",
       "      <td>1</td>\n",
       "      <td>1</td>\n",
       "      <td>3</td>\n",
       "      <td>2</td>\n",
       "      <td>3</td>\n",
       "      <td>2</td>\n",
       "      <td>...</td>\n",
       "      <td>0</td>\n",
       "      <td>3</td>\n",
       "      <td>3</td>\n",
       "      <td>0</td>\n",
       "      <td>4</td>\n",
       "      <td>0</td>\n",
       "      <td>8</td>\n",
       "      <td>9</td>\n",
       "      <td>7</td>\n",
       "      <td>1</td>\n",
       "    </tr>\n",
       "    <tr>\n",
       "      <th>394</th>\n",
       "      <td>1</td>\n",
       "      <td>1</td>\n",
       "      <td>4</td>\n",
       "      <td>1</td>\n",
       "      <td>1</td>\n",
       "      <td>1</td>\n",
       "      <td>1</td>\n",
       "      <td>1</td>\n",
       "      <td>2</td>\n",
       "      <td>0</td>\n",
       "      <td>...</td>\n",
       "      <td>0</td>\n",
       "      <td>2</td>\n",
       "      <td>1</td>\n",
       "      <td>2</td>\n",
       "      <td>4</td>\n",
       "      <td>5</td>\n",
       "      <td>5</td>\n",
       "      <td>6</td>\n",
       "      <td>6</td>\n",
       "      <td>0</td>\n",
       "    </tr>\n",
       "  </tbody>\n",
       "</table>\n",
       "<p>390 rows × 32 columns</p>\n",
       "</div>"
      ],
      "text/plain": [
       "     school  sex  age  address  famsize  Pstatus  Medu  Fedu  Mjob  Fjob  ...  \\\n",
       "0         0    0    3        1        0        0     4     4     0     4  ...   \n",
       "1         0    0    2        1        0        1     1     1     0     2  ...   \n",
       "2         0    0    0        1        1        1     1     1     0     2  ...   \n",
       "3         0    0    0        1        0        1     4     2     1     3  ...   \n",
       "4         0    0    1        1        0        1     3     3     2     2  ...   \n",
       "..      ...  ...  ...      ...      ...      ...   ...   ...   ...   ...  ...   \n",
       "388       1    0    3        1        1        1     3     1     4     3  ...   \n",
       "389       1    0    3        1        0        1     1     1     2     2  ...   \n",
       "391       1    1    2        1        1        1     3     1     3     3  ...   \n",
       "393       1    1    3        0        1        1     3     2     3     2  ...   \n",
       "394       1    1    4        1        1        1     1     1     2     0  ...   \n",
       "\n",
       "     romantic  famrel  freetime  goout  health  absences  G1  G2  G3  Alc  \n",
       "0           0       3         2      3       2         6   2   3   3    0  \n",
       "1           0       4         2      2       2         4   2   2   3    0  \n",
       "2           0       3         2      1       2        10   4   5   7    0  \n",
       "3           1       2         1      1       4         2  12  11  12    0  \n",
       "4           0       3         2      1       4         4   3   7   7    0  \n",
       "..        ...     ...       ...    ...     ...       ...  ..  ..  ..  ...  \n",
       "388         0       3         2      3       0         0   4   6   5    0  \n",
       "389         0       0         0      0       4         0   3   2   0    0  \n",
       "391         0       1         3      4       1         3  11  13  13    1  \n",
       "393         0       3         3      0       4         0   8   9   7    1  \n",
       "394         0       2         1      2       4         5   5   6   6    0  \n",
       "\n",
       "[390 rows x 32 columns]"
      ]
     },
     "execution_count": 9,
     "metadata": {},
     "output_type": "execute_result"
    }
   ],
   "source": [
    "DF"
   ]
  },
  {
   "cell_type": "code",
   "execution_count": 10,
   "id": "df5d7a46-93fb-434a-8bae-00ea6d27fcf6",
   "metadata": {
    "id": "df5d7a46-93fb-434a-8bae-00ea6d27fcf6"
   },
   "outputs": [],
   "source": [
    "clase = DF[\"Alc\"]"
   ]
  },
  {
   "cell_type": "code",
   "execution_count": 11,
   "id": "a59d3c09-0a9c-44db-a60c-7dca48de9260",
   "metadata": {
    "id": "a59d3c09-0a9c-44db-a60c-7dca48de9260"
   },
   "outputs": [],
   "source": [
    "xTrain, xTest, yTrain, yTest = train_test_split(DF.loc[:, DF.columns!='Alc'], clase, test_size=0.2, random_state=0)"
   ]
  },
  {
   "cell_type": "code",
   "execution_count": 12,
   "id": "8db97514-a5b7-4b24-9a50-ce03f0e2fac5",
   "metadata": {
    "colab": {
     "base_uri": "https://localhost:8080/"
    },
    "id": "8db97514-a5b7-4b24-9a50-ce03f0e2fac5",
    "outputId": "53faf804-0609-4288-f57e-998eb1f8c095"
   },
   "outputs": [
    {
     "name": "stdout",
     "output_type": "stream",
     "text": [
      "2 0.8333333333333334\n",
      "              precision    recall  f1-score   support\n",
      "\n",
      "           0       0.90      0.89      0.89        61\n",
      "           1       0.61      0.65      0.63        17\n",
      "\n",
      "    accuracy                           0.83        78\n",
      "   macro avg       0.76      0.77      0.76        78\n",
      "weighted avg       0.84      0.83      0.84        78\n",
      "\n",
      "\n",
      "3 0.782051282051282\n",
      "              precision    recall  f1-score   support\n",
      "\n",
      "           0       0.78      1.00      0.88        61\n",
      "\n",
      "   micro avg       0.78      1.00      0.88        61\n",
      "   macro avg       0.78      1.00      0.88        61\n",
      "weighted avg       0.78      1.00      0.88        61\n",
      "\n",
      "\n",
      "4 0.782051282051282\n",
      "              precision    recall  f1-score   support\n",
      "\n",
      "           0       0.80      0.97      0.87        61\n",
      "           1       0.50      0.12      0.19        17\n",
      "\n",
      "    accuracy                           0.78        78\n",
      "   macro avg       0.65      0.54      0.53        78\n",
      "weighted avg       0.73      0.78      0.73        78\n",
      "\n",
      "\n",
      "5 0.7435897435897436\n",
      "              precision    recall  f1-score   support\n",
      "\n",
      "           0       0.79      0.92      0.85        61\n",
      "           1       0.29      0.12      0.17        17\n",
      "\n",
      "    accuracy                           0.74        78\n",
      "   macro avg       0.54      0.52      0.51        78\n",
      "weighted avg       0.68      0.74      0.70        78\n",
      "\n",
      "\n",
      "6 0.782051282051282\n",
      "              precision    recall  f1-score   support\n",
      "\n",
      "           0       0.84      0.89      0.86        61\n",
      "           1       0.50      0.41      0.45        17\n",
      "\n",
      "    accuracy                           0.78        78\n",
      "   macro avg       0.67      0.65      0.66        78\n",
      "weighted avg       0.77      0.78      0.77        78\n",
      "\n",
      "\n",
      "7 0.7948717948717948\n",
      "              precision    recall  f1-score   support\n",
      "\n",
      "           0       0.86      0.89      0.87        61\n",
      "           1       0.53      0.47      0.50        17\n",
      "\n",
      "    accuracy                           0.79        78\n",
      "   macro avg       0.70      0.68      0.69        78\n",
      "weighted avg       0.79      0.79      0.79        78\n",
      "\n",
      "\n",
      "8 0.7948717948717948\n",
      "              precision    recall  f1-score   support\n",
      "\n",
      "           0       0.84      0.92      0.88        61\n",
      "           1       0.55      0.35      0.43        17\n",
      "\n",
      "    accuracy                           0.79        78\n",
      "   macro avg       0.69      0.64      0.65        78\n",
      "weighted avg       0.77      0.79      0.78        78\n",
      "\n",
      "\n",
      "9 0.7692307692307693\n",
      "              precision    recall  f1-score   support\n",
      "\n",
      "           0       0.84      0.87      0.85        61\n",
      "           1       0.47      0.41      0.44        17\n",
      "\n",
      "    accuracy                           0.77        78\n",
      "   macro avg       0.65      0.64      0.65        78\n",
      "weighted avg       0.76      0.77      0.76        78\n",
      "\n",
      "\n",
      "10 0.7948717948717948\n",
      "              precision    recall  f1-score   support\n",
      "\n",
      "           0       0.85      0.90      0.87        61\n",
      "           1       0.54      0.41      0.47        17\n",
      "\n",
      "    accuracy                           0.79        78\n",
      "   macro avg       0.69      0.66      0.67        78\n",
      "weighted avg       0.78      0.79      0.78        78\n",
      "\n",
      "\n",
      "11 0.7564102564102564\n",
      "              precision    recall  f1-score   support\n",
      "\n",
      "           0       0.84      0.85      0.85        61\n",
      "           1       0.44      0.41      0.42        17\n",
      "\n",
      "    accuracy                           0.76        78\n",
      "   macro avg       0.64      0.63      0.63        78\n",
      "weighted avg       0.75      0.76      0.75        78\n",
      "\n",
      "\n",
      "12 0.7564102564102564\n",
      "              precision    recall  f1-score   support\n",
      "\n",
      "           0       0.82      0.89      0.85        61\n",
      "           1       0.42      0.29      0.34        17\n",
      "\n",
      "    accuracy                           0.76        78\n",
      "   macro avg       0.62      0.59      0.60        78\n",
      "weighted avg       0.73      0.76      0.74        78\n",
      "\n",
      "\n",
      "13 0.7307692307692307\n",
      "              precision    recall  f1-score   support\n",
      "\n",
      "           0       0.83      0.82      0.83        61\n",
      "           1       0.39      0.41      0.40        17\n",
      "\n",
      "    accuracy                           0.73        78\n",
      "   macro avg       0.61      0.62      0.61        78\n",
      "weighted avg       0.74      0.73      0.73        78\n",
      "\n",
      "\n",
      "14 0.7564102564102564\n",
      "              precision    recall  f1-score   support\n",
      "\n",
      "           0       0.85      0.84      0.84        61\n",
      "           1       0.44      0.47      0.46        17\n",
      "\n",
      "    accuracy                           0.76        78\n",
      "   macro avg       0.65      0.65      0.65        78\n",
      "weighted avg       0.76      0.76      0.76        78\n",
      "\n",
      "\n",
      "15 0.7435897435897436\n",
      "              precision    recall  f1-score   support\n",
      "\n",
      "           0       0.82      0.87      0.84        61\n",
      "           1       0.38      0.29      0.33        17\n",
      "\n",
      "    accuracy                           0.74        78\n",
      "   macro avg       0.60      0.58      0.59        78\n",
      "weighted avg       0.72      0.74      0.73        78\n",
      "\n",
      "\n",
      "16 0.782051282051282\n",
      "              precision    recall  f1-score   support\n",
      "\n",
      "           0       0.85      0.87      0.86        61\n",
      "           1       0.50      0.47      0.48        17\n",
      "\n",
      "    accuracy                           0.78        78\n",
      "   macro avg       0.68      0.67      0.67        78\n",
      "weighted avg       0.78      0.78      0.78        78\n",
      "\n",
      "\n",
      "17 0.717948717948718\n",
      "              precision    recall  f1-score   support\n",
      "\n",
      "           0       0.81      0.84      0.82        61\n",
      "           1       0.33      0.29      0.31        17\n",
      "\n",
      "    accuracy                           0.72        78\n",
      "   macro avg       0.57      0.57      0.57        78\n",
      "weighted avg       0.71      0.72      0.71        78\n",
      "\n",
      "\n",
      "18 0.7564102564102564\n",
      "              precision    recall  f1-score   support\n",
      "\n",
      "           0       0.83      0.87      0.85        61\n",
      "           1       0.43      0.35      0.39        17\n",
      "\n",
      "    accuracy                           0.76        78\n",
      "   macro avg       0.63      0.61      0.62        78\n",
      "weighted avg       0.74      0.76      0.75        78\n",
      "\n",
      "\n"
     ]
    }
   ],
   "source": [
    "for i in range(2,19):\n",
    "    \n",
    "    modelo = DecisionTreeClassifier(criterion=\"entropy\", max_depth = i)\n",
    "    modelo = modelo.fit(xTrain,yTrain)\n",
    "    yPred = modelo.predict(xTest)\n",
    "    print(i, metrics.accuracy_score(yTest,yPred))\n",
    "    print(metrics.classification_report(yTest,yPred,labels=np.unique(yPred))+\"\\n\")"
   ]
  },
  {
   "cell_type": "code",
   "execution_count": 13,
   "id": "c51771be-033a-4c2f-99f0-c4a2f0a618ef",
   "metadata": {
    "id": "c51771be-033a-4c2f-99f0-c4a2f0a618ef"
   },
   "outputs": [],
   "source": [
    "modelo = DecisionTreeClassifier(criterion=\"entropy\", max_depth=2)\n",
    "modelo = modelo.fit(xTrain,yTrain)"
   ]
  },
  {
   "cell_type": "code",
   "execution_count": 14,
   "id": "d57a66f7-591a-4885-bcbd-af68c1cb92e5",
   "metadata": {
    "id": "d57a66f7-591a-4885-bcbd-af68c1cb92e5"
   },
   "outputs": [],
   "source": [
    "yPred = modelo.predict(xTest)"
   ]
  },
  {
   "cell_type": "code",
   "execution_count": 15,
   "id": "9404b457-d5c7-4d5f-b8c7-6ddff823c1f9",
   "metadata": {
    "colab": {
     "base_uri": "https://localhost:8080/"
    },
    "id": "9404b457-d5c7-4d5f-b8c7-6ddff823c1f9",
    "outputId": "a2e9803e-7361-4d83-b231-e96b8253a0b0"
   },
   "outputs": [
    {
     "data": {
      "text/plain": [
       "0.8333333333333334"
      ]
     },
     "execution_count": 15,
     "metadata": {},
     "output_type": "execute_result"
    }
   ],
   "source": [
    "metrics.accuracy_score(yTest,yPred)"
   ]
  },
  {
   "cell_type": "code",
   "execution_count": 16,
   "id": "84f779d8-acd1-4e08-87ae-c721c26f1c3a",
   "metadata": {
    "colab": {
     "base_uri": "https://localhost:8080/"
    },
    "id": "84f779d8-acd1-4e08-87ae-c721c26f1c3a",
    "outputId": "48fb7183-a5b4-463b-9aa6-5091dd784b8e"
   },
   "outputs": [
    {
     "name": "stdout",
     "output_type": "stream",
     "text": [
      "              precision    recall  f1-score   support\n",
      "\n",
      "           0       0.90      0.89      0.89        61\n",
      "           1       0.61      0.65      0.63        17\n",
      "\n",
      "    accuracy                           0.83        78\n",
      "   macro avg       0.76      0.77      0.76        78\n",
      "weighted avg       0.84      0.83      0.84        78\n",
      "\n"
     ]
    }
   ],
   "source": [
    "print(metrics.classification_report(yTest,yPred))"
   ]
  },
  {
   "cell_type": "code",
   "execution_count": 17,
   "id": "587240d9-47c3-4bbe-9ee9-6977b3a826d2",
   "metadata": {
    "id": "587240d9-47c3-4bbe-9ee9-6977b3a826d2"
   },
   "outputs": [],
   "source": [
    "arbolTexto = sklearn.tree.export_text(modelo, feature_names=list(DF.columns[:-1]))"
   ]
  },
  {
   "cell_type": "code",
   "execution_count": 18,
   "id": "d3d85fa7-c06d-42b1-aa91-ee446a11d582",
   "metadata": {
    "colab": {
     "base_uri": "https://localhost:8080/"
    },
    "id": "d3d85fa7-c06d-42b1-aa91-ee446a11d582",
    "outputId": "af13d5b3-6815-4f28-bff5-cf0de6e1b5be"
   },
   "outputs": [
    {
     "name": "stdout",
     "output_type": "stream",
     "text": [
      "|--- goout <= 2.50\n",
      "|   |--- G3 <= 10.50\n",
      "|   |   |--- class: 0\n",
      "|   |--- G3 >  10.50\n",
      "|   |   |--- class: 0\n",
      "|--- goout >  2.50\n",
      "|   |--- sex <= 0.50\n",
      "|   |   |--- class: 0\n",
      "|   |--- sex >  0.50\n",
      "|   |   |--- class: 1\n",
      "\n"
     ]
    }
   ],
   "source": [
    "print(arbolTexto)"
   ]
  },
  {
   "cell_type": "code",
   "execution_count": 19,
   "id": "ae63e3b7-5183-4099-a630-58b64b926e86",
   "metadata": {
    "colab": {
     "base_uri": "https://localhost:8080/",
     "height": 303
    },
    "id": "ae63e3b7-5183-4099-a630-58b64b926e86",
    "outputId": "6139806c-6831-4672-9586-7515b361250f"
   },
   "outputs": [
    {
     "data": {
      "image/png": "[encoded data removed]",
      "text/plain": [
       "<Figure size 648x288 with 1 Axes>"
      ]
     },
     "metadata": {
      "needs_background": "light"
     },
     "output_type": "display_data"
    }
   ],
   "source": [
    "fig = plt.figure(figsize=(9,4))\n",
    "var = sklearn.tree.plot_tree(modelo, \n",
    "                             feature_names=list(DF.columns),\n",
    "                             filled=True,\n",
    "                             fontsize=10,\n",
    "                             class_names=[\"Moderado\",\"Sin moderación\"])\n",
    "plt.savefig(\"arbolClase.png\")"
   ]
  },
  {
   "cell_type": "code",
   "execution_count": 20,
   "id": "a62de008-dcdc-41c0-92b2-9835b52ce209",
   "metadata": {
    "id": "a62de008-dcdc-41c0-92b2-9835b52ce209"
   },
   "outputs": [],
   "source": [
    "DF = pd.read_csv(\"student-mat.csv\")\n",
    "DF = DF[DF.age < 20]\n",
    "DF[\"Alc\"] = DF[[\"Dalc\", \"Walc\"]].max(axis=1)\n",
    "DF = DF.drop(columns=[\"Dalc\", \"Walc\"])\n",
    "DF = DF.apply(LabelEncoder().fit_transform)\n",
    "DF[\"Alc\"].replace({1:0,2:0,3:1,4:1}, inplace=True)"
   ]
  },
  {
   "cell_type": "code",
   "execution_count": 21,
   "id": "eaf21609-a3df-42d8-98af-cb9b009e80b1",
   "metadata": {
    "colab": {
     "base_uri": "https://localhost:8080/"
    },
    "id": "eaf21609-a3df-42d8-98af-cb9b009e80b1",
    "outputId": "3b756f62-4698-4f16-e0bf-5677e7b6f51d"
   },
   "outputs": [
    {
     "data": {
      "text/plain": [
       "<bound method NDFrame.describe of      school  sex  age  address  famsize  Pstatus  Medu  Fedu  Mjob  Fjob  ...  \\\n",
       "0         0    0    3        1        0        0     4     4     0     4  ...   \n",
       "1         0    0    2        1        0        1     1     1     0     2  ...   \n",
       "2         0    0    0        1        1        1     1     1     0     2  ...   \n",
       "3         0    0    0        1        0        1     4     2     1     3  ...   \n",
       "4         0    0    1        1        0        1     3     3     2     2  ...   \n",
       "..      ...  ...  ...      ...      ...      ...   ...   ...   ...   ...  ...   \n",
       "388       1    0    3        1        1        1     3     1     4     3  ...   \n",
       "389       1    0    3        1        0        1     1     1     2     2  ...   \n",
       "391       1    1    2        1        1        1     3     1     3     3  ...   \n",
       "393       1    1    3        0        1        1     3     2     3     2  ...   \n",
       "394       1    1    4        1        1        1     1     1     2     0  ...   \n",
       "\n",
       "     romantic  famrel  freetime  goout  health  absences  G1  G2  G3  Alc  \n",
       "0           0       3         2      3       2         6   2   3   3    0  \n",
       "1           0       4         2      2       2         4   2   2   3    0  \n",
       "2           0       3         2      1       2        10   4   5   7    0  \n",
       "3           1       2         1      1       4         2  12  11  12    0  \n",
       "4           0       3         2      1       4         4   3   7   7    0  \n",
       "..        ...     ...       ...    ...     ...       ...  ..  ..  ..  ...  \n",
       "388         0       3         2      3       0         0   4   6   5    0  \n",
       "389         0       0         0      0       4         0   3   2   0    0  \n",
       "391         0       1         3      4       1         3  11  13  13    1  \n",
       "393         0       3         3      0       4         0   8   9   7    1  \n",
       "394         0       2         1      2       4         5   5   6   6    0  \n",
       "\n",
       "[390 rows x 32 columns]>"
      ]
     },
     "execution_count": 21,
     "metadata": {},
     "output_type": "execute_result"
    }
   ],
   "source": [
    "DF.describe"
   ]
  },
  {
   "cell_type": "code",
   "execution_count": 22,
   "id": "bea02f79-33e2-4648-85dc-bde34e4a3295",
   "metadata": {
    "id": "bea02f79-33e2-4648-85dc-bde34e4a3295"
   },
   "outputs": [],
   "source": [
    "X = DF.iloc[:,:31]\n",
    "y = DF.iloc[:,31]"
   ]
  },
  {
   "cell_type": "code",
   "execution_count": 23,
   "id": "fde455cd-ef69-4b9e-9764-6b587f8ae0f2",
   "metadata": {
    "id": "fde455cd-ef69-4b9e-9764-6b587f8ae0f2"
   },
   "outputs": [],
   "source": [
    "xTrain, xTest, yTrain, yTest = train_test_split(X,y,test_size=0.2)"
   ]
  },
  {
   "cell_type": "code",
   "execution_count": 24,
   "id": "63447ff2-8150-442e-a67e-6bc2a8a99452",
   "metadata": {
    "id": "63447ff2-8150-442e-a67e-6bc2a8a99452"
   },
   "outputs": [],
   "source": [
    "cnb = CategoricalNB()\n",
    "cnb.fit(xTrain,yTrain)\n",
    "yPred = cnb.predict(xTest)"
   ]
  },
  {
   "cell_type": "code",
   "execution_count": 25,
   "id": "1df82831-9128-4a52-b2ee-befe9da8fdc2",
   "metadata": {
    "colab": {
     "base_uri": "https://localhost:8080/"
    },
    "id": "1df82831-9128-4a52-b2ee-befe9da8fdc2",
    "outputId": "3eaccc81-d133-43fa-dc88-001d7e3e35a1"
   },
   "outputs": [
    {
     "data": {
      "text/plain": [
       "0.7948717948717948"
      ]
     },
     "execution_count": 25,
     "metadata": {},
     "output_type": "execute_result"
    }
   ],
   "source": [
    "metrics.accuracy_score(yTest,yPred)"
   ]
  },
  {
   "cell_type": "code",
   "execution_count": 26,
   "id": "86125148-8148-4bfa-8856-c64039f3bfa2",
   "metadata": {
    "colab": {
     "base_uri": "https://localhost:8080/"
    },
    "id": "86125148-8148-4bfa-8856-c64039f3bfa2",
    "outputId": "b0160ba9-4a69-446c-8b98-7f5b1ad1b482"
   },
   "outputs": [
    {
     "name": "stdout",
     "output_type": "stream",
     "text": [
      "              precision    recall  f1-score   support\n",
      "\n",
      "           0       0.83      0.92      0.87        60\n",
      "           1       0.58      0.39      0.47        18\n",
      "\n",
      "    accuracy                           0.79        78\n",
      "   macro avg       0.71      0.65      0.67        78\n",
      "weighted avg       0.78      0.79      0.78        78\n",
      "\n"
     ]
    }
   ],
   "source": [
    "print(metrics.classification_report(yTest,yPred))"
   ]
  },
  {
   "cell_type": "code",
   "execution_count": 27,
   "id": "6e6e80b0-2292-4d66-b39e-d3c0f99eb974",
   "metadata": {
    "id": "6e6e80b0-2292-4d66-b39e-d3c0f99eb974"
   },
   "outputs": [],
   "source": [
    "DF = pd.read_csv(\"student-mat.csv\")\n",
    "DF = DF[DF.age < 20]\n",
    "DF[\"Alc\"] = DF[[\"Dalc\", \"Walc\"]].max(axis=1)\n",
    "DF = DF.drop(columns=[\"Dalc\", \"Walc\"])\n",
    "DF = DF.apply(LabelEncoder().fit_transform)\n",
    "DF[\"Alc\"].replace({1:0,2:0,3:1,4:1}, inplace=True)"
   ]
  },
  {
   "cell_type": "code",
   "execution_count": 28,
   "id": "0df66c65-cd3d-417e-b992-8c0feeb15a94",
   "metadata": {
    "id": "0df66c65-cd3d-417e-b992-8c0feeb15a94"
   },
   "outputs": [],
   "source": [
    "x = DF.values\n",
    "min_max_scaler = preprocessing.MinMaxScaler()\n",
    "x_scaled = min_max_scaler.fit_transform(x)\n",
    "df = pd.DataFrame(x_scaled)"
   ]
  },
  {
   "cell_type": "code",
   "execution_count": 29,
   "id": "7ef8dd46-ed3d-4bda-bdb4-fc4a68bf7565",
   "metadata": {
    "id": "7ef8dd46-ed3d-4bda-bdb4-fc4a68bf7565"
   },
   "outputs": [],
   "source": [
    "X_train, X_vt, y_train, y_vt = train_test_split(x_scaled,df[3],test_size=.30)\n",
    "X_val, X_test, y_val, y_test = train_test_split(X_vt,y_vt,test_size=.50)"
   ]
  },
  {
   "cell_type": "code",
   "execution_count": 30,
   "id": "3d77c67d-1855-4ead-ac55-e9e8de6ad206",
   "metadata": {
    "colab": {
     "base_uri": "https://localhost:8080/"
    },
    "id": "3d77c67d-1855-4ead-ac55-e9e8de6ad206",
    "outputId": "39e9976b-aaf9-4d5e-cd4d-7b97888226ba"
   },
   "outputs": [
    {
     "data": {
      "text/plain": [
       "[(1, 0.9166666666666666), (3, 0.92), (5, 0.9484536082474228)]"
      ]
     },
     "execution_count": 30,
     "metadata": {},
     "output_type": "execute_result"
    }
   ],
   "source": [
    "k_F1 = []\n",
    "kRange = [1,3,5]\n",
    "\n",
    "for k in kRange:\n",
    "        \n",
    "    knn = KNeighborsClassifier(n_neighbors=k,p=2)\n",
    "    knn.fit(X_train,y_train)\n",
    "    y_pred = knn.predict(X_val)\n",
    "    k_F1.append(f1_score(y_val, y_pred))\n",
    "\n",
    "list(zip(kRange,k_F1))"
   ]
  },
  {
   "cell_type": "code",
   "execution_count": 31,
   "id": "4e7ede76-c2f8-4ee8-af5f-1f0cf4bb4aeb",
   "metadata": {
    "colab": {
     "base_uri": "https://localhost:8080/"
    },
    "id": "4e7ede76-c2f8-4ee8-af5f-1f0cf4bb4aeb",
    "outputId": "bbe4bad2-82e4-40b3-e810-c7e174be00fa"
   },
   "outputs": [
    {
     "name": "stdout",
     "output_type": "stream",
     "text": [
      "accuracy: (83.05, 90.03)\n",
      "precision-recall: 0.2986440677966101\n"
     ]
    }
   ],
   "source": [
    "laben = LabelEncoder()\n",
    "def FunLabelEncoder(df):\n",
    "    for c in df.columns:\n",
    "        if DF.dtypes[c] == object:\n",
    "            laben.fit(DF[c].astype(str))\n",
    "            DF[c] = laben.transform(DF[c].astype(str))\n",
    "    return DF\n",
    "\n",
    "Y = DF[\"Alc\"]\n",
    "X = DF = DF.drop(columns=[\"Alc\"])\n",
    "\n",
    "DF = FunLabelEncoder(DF)\n",
    "X_train, X_test, Y_train, Y_test = train_test_split(X, Y, test_size=0.15, random_state=9)\n",
    "\n",
    "#Modelo SVM\n",
    "svm = OneVsRestClassifier(BaggingClassifier(SVC(C=10,kernel='rbf',random_state=9, probability=True), n_jobs=-1))\n",
    "#Entrenando modelo\n",
    "svm.fit(X_train, Y_train)\n",
    "#Prediciendo los valores del target\n",
    "Y_predict2 = svm.predict(X_test)\n",
    "\n",
    "#Accuracy\n",
    "test_svm = round(svm.fit(X_train,Y_train).score(X_test, Y_test)* 100, 2)\n",
    "train_svm = round(svm.fit(X_train, Y_train).score(X_train, Y_train)* 100, 2)\n",
    "\n",
    "model = (test_svm, train_svm)\n",
    "print('accuracy:', model)\n",
    "#Precision-recall\n",
    "average_precision = average_precision_score(Y_test, Y_predict2)\n",
    "print('precision-recall:', average_precision)"
   ]
  },
  {
   "cell_type": "code",
   "execution_count": null,
   "id": "4584decd-c9d1-453d-b28a-2fbc8f4b2e50",
   "metadata": {},
   "outputs": [],
   "source": []
  }
 ],
 "metadata": {
  "colab": {
   "name": "bonito.ipynb",
   "provenance": []
  },
  "kernelspec": {
   "display_name": "Python 3 (ipykernel)",
   "language": "python",
   "name": "python3"
  },
  "language_info": {
   "codemirror_mode": {
    "name": "ipython",
    "version": 3
   },
   "file_extension": ".py",
   "mimetype": "text/x-python",
   "name": "python",
   "nbconvert_exporter": "python",
   "pygments_lexer": "ipython3",
   "version": "3.9.7"
  }
 },
 "nbformat": 4,
 "nbformat_minor": 5
}
